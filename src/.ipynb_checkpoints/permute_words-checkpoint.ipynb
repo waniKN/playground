{
 "cells": [
  {
   "cell_type": "markdown",
   "metadata": {},
   "source": [
    "# 任意の文字列をランダムに並び替えるスクリプト"
   ]
  },
  {
   "cell_type": "markdown",
   "metadata": {},
   "source": [
    "ツイッターとかでよく見るやつ\n",
    "\n",
    "「ファルコン・パンチ」，「イヌヌワン！」 etc...\n",
    "\n",
    "簡単にできそうだけど気になったので作ってみる"
   ]
  },
  {
   "cell_type": "code",
   "execution_count": 1,
   "metadata": {},
   "outputs": [],
   "source": [
    "import random\n",
    "import math"
   ]
  },
  {
   "cell_type": "code",
   "execution_count": 2,
   "metadata": {},
   "outputs": [
    {
     "name": "stdout",
     "output_type": "stream",
     "text": [
      "チンンフルコパ・ァ\n"
     ]
    }
   ],
   "source": [
    "input_words = \"ファルコン・パンチ\"\n",
    "# input_words = \"イヌヌワン！\"\n",
    "\n",
    "sr = ''.join(random.sample(input_words, len(input_words)))\n",
    "\n",
    "print(sr)"
   ]
  },
  {
   "cell_type": "markdown",
   "metadata": {},
   "source": [
    "簡単すぎワロタ"
   ]
  },
  {
   "cell_type": "code",
   "execution_count": 3,
   "metadata": {},
   "outputs": [
    {
     "name": "stdout",
     "output_type": "stream",
     "text": [
      "成し遂げたぜ． 266781回掛かったぜ．\n",
      "'ファルコン・パンチ'は9文字だから，266781回目で引ける確率は0.521だぜ\n"
     ]
    }
   ],
   "source": [
    "t = 0\n",
    "len_w = len(input_words)\n",
    "while True:\n",
    "    sr = ''.join(random.sample(input_words, len(input_words)))\n",
    "    if sr == input_words:\n",
    "        print(f\"成し遂げたぜ． {t}回掛かったぜ．\")\n",
    "        print(f\"'{input_words}'は{len_w}文字だから，{t}回目で引ける確率は{1 - (1 - 1/math.factorial(len_w))** t:.3f}だぜ\")\n",
    "        break\n",
    "    t += 1"
   ]
  }
 ],
 "metadata": {
  "kernelspec": {
   "display_name": "Python 3",
   "language": "python",
   "name": "python3"
  },
  "language_info": {
   "codemirror_mode": {
    "name": "ipython",
    "version": 3
   },
   "file_extension": ".py",
   "mimetype": "text/x-python",
   "name": "python",
   "nbconvert_exporter": "python",
   "pygments_lexer": "ipython3",
   "version": "3.7.1"
  }
 },
 "nbformat": 4,
 "nbformat_minor": 4
}
