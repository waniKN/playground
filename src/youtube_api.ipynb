{
 "cells": [
  {
   "cell_type": "code",
   "execution_count": 1,
   "metadata": {},
   "outputs": [],
   "source": [
    "import os\n",
    "import time\n",
    "import requests\n",
    "import json\n",
    "\n",
    "import pandas as pd\n",
    "\n",
    "\n",
    "API_KEY = os.environ[\"API_KEY\"]\n",
    "\n",
    "CHANNEL_ID = 'UC1DCedRgGHBdm81E1llLhOQ' # 兎田\n",
    "# CHANNEL_ID = 'UCZlDXzGoo7d44bwdNObFacg' # かなた\n",
    "\n",
    "\n",
    "EVENT_TYPE = \"upcoming\"\n",
    "\n",
    "url = f\"https://www.googleapis.com/youtube/v3/search?part=snippet&channelId={CHANNEL_ID}&eventType={EVENT_TYPE}&type=video&key={API_KEY}\"\n",
    "\n",
    "def getStreamInfo(result, _iter):\n",
    "    try:\n",
    "        publishedAt = result[\"items\"][_iter][\"snippet\"][\"publishedAt\"]\n",
    "        title = result[\"items\"][_iter][\"snippet\"][\"title\"]\n",
    "        description = result[\"items\"][_iter][\"snippet\"][\"description\"]\n",
    "        thumbnailsUrl = result[\"items\"][_iter][\"snippet\"][\"thumbnails\"][\"medium\"][\"url\"]\n",
    "        liveBroadcastContent = result[\"items\"][_iter][\"snippet\"][\"liveBroadcastContent\"]\n",
    "        print(publishedAt, title, description, thumbnailsUrl, liveBroadcastContent, sep=\"\\n\")\n",
    "    #     print(publishedAt, title, description, thumbnailsUrl, liveBroadcastContent)\n",
    "    except IndexError:\n",
    "        print(\"no items.\")"
   ]
  },
  {
   "cell_type": "code",
   "execution_count": 2,
   "metadata": {},
   "outputs": [],
   "source": [
    "response = requests.get(url) \n",
    "result = response.json()"
   ]
  },
  {
   "cell_type": "code",
   "execution_count": 3,
   "metadata": {},
   "outputs": [
    {
     "data": {
      "text/plain": [
       "{'kind': 'youtube#searchListResponse',\n",
       " 'etag': '\"nxOHAKTVB7baOKsQgTtJIyGxcs8/pevU2A4ZzzLN9BtOjDzMXTuBCII\"',\n",
       " 'regionCode': 'JP',\n",
       " 'pageInfo': {'totalResults': 1, 'resultsPerPage': 5},\n",
       " 'items': [{'kind': 'youtube#searchResult',\n",
       "   'etag': '\"nxOHAKTVB7baOKsQgTtJIyGxcs8/GgcyzkCYLOlyNYY8VBK11EMJUJE\"',\n",
       "   'id': {'kind': 'youtube#video', 'videoId': 'BJQR_RTwolE'},\n",
       "   'snippet': {'publishedAt': '2020-04-23T07:34:15.000Z',\n",
       "    'channelId': 'UC1DCedRgGHBdm81E1llLhOQ',\n",
       "    'title': '【】ぺ？！？ぺこぺこぺっこおおおおおおんぺこ！【ホロライブ/兎田ぺこら】',\n",
       "    'description': 'ぺこらとのお約束   ・待機所でお喋りしない(初見さんが輪に入りずらいから) ・喧嘩しない！不快なコメントがあっても触れないでブロック(...',\n",
       "    'thumbnails': {'default': {'url': 'https://i.ytimg.com/vi/BJQR_RTwolE/default_live.jpg',\n",
       "      'width': 120,\n",
       "      'height': 90},\n",
       "     'medium': {'url': 'https://i.ytimg.com/vi/BJQR_RTwolE/mqdefault_live.jpg',\n",
       "      'width': 320,\n",
       "      'height': 180},\n",
       "     'high': {'url': 'https://i.ytimg.com/vi/BJQR_RTwolE/hqdefault_live.jpg',\n",
       "      'width': 480,\n",
       "      'height': 360}},\n",
       "    'channelTitle': 'Pekora Ch. 兎田ぺこら',\n",
       "    'liveBroadcastContent': 'upcoming'}}]}"
      ]
     },
     "execution_count": 3,
     "metadata": {},
     "output_type": "execute_result"
    }
   ],
   "source": [
    "result"
   ]
  },
  {
   "cell_type": "code",
   "execution_count": 6,
   "metadata": {},
   "outputs": [
    {
     "name": "stdout",
     "output_type": "stream",
     "text": [
      "2020-04-23T07:34:15.000Z\n",
      "【】ぺ？！？ぺこぺこぺっこおおおおおおんぺこ！【ホロライブ/兎田ぺこら】\n",
      "ぺこらとのお約束   ・待機所でお喋りしない(初見さんが輪に入りずらいから) ・喧嘩しない！不快なコメントがあっても触れないでブロック(...\n",
      "https://i.ytimg.com/vi/BJQR_RTwolE/mqdefault_live.jpg\n",
      "upcoming\n"
     ]
    }
   ],
   "source": [
    "getStreamInfo(result, 0)"
   ]
  }
 ],
 "metadata": {
  "kernelspec": {
   "display_name": "Python 3",
   "language": "python",
   "name": "python3"
  },
  "language_info": {
   "codemirror_mode": {
    "name": "ipython",
    "version": 3
   },
   "file_extension": ".py",
   "mimetype": "text/x-python",
   "name": "python",
   "nbconvert_exporter": "python",
   "pygments_lexer": "ipython3",
   "version": "3.8.2"
  }
 },
 "nbformat": 4,
 "nbformat_minor": 4
}
